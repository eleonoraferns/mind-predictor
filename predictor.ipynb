{
  "nbformat": 4,
  "nbformat_minor": 0,
  "metadata": {
    "colab": {
      "provenance": [],
      "authorship_tag": "ABX9TyMQHWbhNL4tzWnkt6vpblS0",
      "include_colab_link": true
    },
    "kernelspec": {
      "name": "python3",
      "display_name": "Python 3"
    },
    "language_info": {
      "name": "python"
    }
  },
  "cells": [
    {
      "cell_type": "markdown",
      "metadata": {
        "id": "view-in-github",
        "colab_type": "text"
      },
      "source": [
        "<a href=\"https://colab.research.google.com/github/eleonoraferns/mind-predictor/blob/main/predictor.ipynb\" target=\"_parent\"><img src=\"https://colab.research.google.com/assets/colab-badge.svg\" alt=\"Open In Colab\"/></a>"
      ]
    },
    {
      "cell_type": "code",
      "source": [
        "import random\n",
        "inputs = []\n",
        "player_score = 0\n",
        "comp_score = 0\n",
        "\n",
        "#func to predict computer o/p\n",
        "def predict():\n",
        "  count0 = inputs.count(0)\n",
        "  count1 = inputs.count(1)\n",
        "  if count0> count1:\n",
        "    predicted = 0\n",
        "  elif count1>count0:\n",
        "    predicted = 1\n",
        "  else:\n",
        "    predicted = random.randint(0,1)\n",
        "  return predicted\n",
        "\n",
        "#func to track scores. if comp, guesses correctly, comp scores, else player scores.\n",
        "def scores(predicted, player_input):\n",
        " # predicted = predict()\n",
        "  global player_score, comp_score\n",
        "  if predicted == player_input:\n",
        "    comp_score = comp_score + 1\n",
        "    print(\"Your Score:\", player_score,\"\\tComputer Score:\", comp_score)\n",
        "  else:\n",
        "    player_score = player_score + 1\n",
        "    print(\"Your Score:\", player_score,\"\\tComputer Score:\", comp_score)\n",
        "\n",
        "#gameplay\n",
        "def gameplay():\n",
        "  valid = [0,1]\n",
        "  while True:\n",
        "    predicted = predict()\n",
        "    player_input = int(input(\"Enter 0 or 1:\"))\n",
        "    while player_input not in valid:\n",
        "      print(\"Invalid Input. Please enter either 0 or 1:\")\n",
        "      player_input = int(input())\n",
        "    #print(\"Computer Predicted:\", predict())\n",
        "    inputs.append(player_input)\n",
        "    print(\"Computer Predicted:\", predicted)\n",
        "    scores(predicted, player_input)\n",
        "    if player_score == 10:\n",
        "      print(\"Congrats! Yow won.\")\n",
        "      break\n",
        "    elif comp_score == 10:\n",
        "      print(\"Better luck next time :(\")\n",
        "      break\n",
        "\n",
        "#calling gameplay\n",
        "print(\"Welcome to Predictor Game!\\n\")\n",
        "print(\"The rules are as follows:\")\n",
        "print(\"->You choose a number between 0 and 1.\\n->The computer predicts the number you will choose.\")\n",
        "print(\"->If the computer's prediction matches the number chosen by you, the computer scores 1 point. If not, you score 1 point.\")\n",
        "print(\"->The first one to hit 10 points wins.\\n\")\n",
        "print(\"Good Luck!\\n\")\n",
        "gameplay()"
      ],
      "metadata": {
        "colab": {
          "base_uri": "https://localhost:8080/"
        },
        "id": "url2QchpqI3Y",
        "outputId": "6eb9bf09-ff96-4971-8c8e-2fe654b5c8ee"
      },
      "execution_count": null,
      "outputs": [
        {
          "output_type": "stream",
          "name": "stdout",
          "text": [
            "Welcome to Predictor Game!\n",
            "\n",
            "The rules are as follows:\n",
            "->You choose a number between 0 and 1.\n",
            "->The computer predicts the number you will choose.\n",
            "->If the computer's prediction matches the number chosen by you, the computer scores 1 point. If not, you score 1 point.\n",
            "->The first one to hit 10 points wins.\n",
            "\n",
            "Good Luck!\n",
            "\n",
            "Enter 0 or 1:0\n",
            "Computer Predicted: 1\n",
            "Your Score: 1 \tComputer Score: 0\n",
            "Enter 0 or 1:1\n",
            "Computer Predicted: 0\n",
            "Your Score: 2 \tComputer Score: 0\n",
            "Enter 0 or 1:0\n",
            "Computer Predicted: 1\n",
            "Your Score: 3 \tComputer Score: 0\n",
            "Enter 0 or 1:0\n",
            "Computer Predicted: 0\n",
            "Your Score: 3 \tComputer Score: 1\n",
            "Enter 0 or 1:1\n",
            "Computer Predicted: 0\n",
            "Your Score: 4 \tComputer Score: 1\n",
            "Enter 0 or 1:1\n",
            "Computer Predicted: 0\n",
            "Your Score: 5 \tComputer Score: 1\n",
            "Enter 0 or 1:1\n",
            "Computer Predicted: 0\n",
            "Your Score: 6 \tComputer Score: 1\n",
            "Enter 0 or 1:0\n",
            "Computer Predicted: 1\n",
            "Your Score: 7 \tComputer Score: 1\n",
            "Enter 0 or 1:0\n",
            "Computer Predicted: 1\n",
            "Your Score: 8 \tComputer Score: 1\n",
            "Enter 0 or 1:1\n",
            "Computer Predicted: 0\n",
            "Your Score: 9 \tComputer Score: 1\n",
            "Enter 0 or 1:1\n",
            "Computer Predicted: 0\n",
            "Your Score: 10 \tComputer Score: 1\n",
            "Congrats! Yow won.\n"
          ]
        }
      ]
    }
  ]
}